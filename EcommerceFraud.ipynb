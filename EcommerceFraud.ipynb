{
 "cells": [
  {
   "cell_type": "markdown",
   "metadata": {},
   "source": [
    "Import Dataset"
   ]
  },
  {
   "cell_type": "code",
   "execution_count": 1,
   "metadata": {},
   "outputs": [
    {
     "name": "stdout",
     "output_type": "stream",
     "text": [
      "Number of rows: 151112\n",
      "Number of columns: 11\n"
     ]
    }
   ],
   "source": [
    "import pandas as pd\n",
    "\n",
    "# Load your data\n",
    "data = pd.read_csv('Fraud_Data.csv')\n",
    "\n",
    "# Display the number of rows and columns\n",
    "rows, columns = data.shape\n",
    "print(f\"Number of rows: {rows}\")\n",
    "print(f\"Number of columns: {columns}\")"
   ]
  },
  {
   "cell_type": "markdown",
   "metadata": {},
   "source": [
    "Check for Missing Values"
   ]
  },
  {
   "cell_type": "code",
   "execution_count": 2,
   "metadata": {},
   "outputs": [
    {
     "name": "stdout",
     "output_type": "stream",
     "text": [
      "Missing Values:\n",
      " user_id           0\n",
      "signup_time       0\n",
      "purchase_time     0\n",
      "purchase_value    0\n",
      "device_id         0\n",
      "source            0\n",
      "browser           0\n",
      "sex               0\n",
      "age               0\n",
      "ip_address        0\n",
      "class             0\n",
      "dtype: int64\n",
      "Percentage of Missing Values:\n",
      " user_id           0.0\n",
      "signup_time       0.0\n",
      "purchase_time     0.0\n",
      "purchase_value    0.0\n",
      "device_id         0.0\n",
      "source            0.0\n",
      "browser           0.0\n",
      "sex               0.0\n",
      "age               0.0\n",
      "ip_address        0.0\n",
      "class             0.0\n",
      "dtype: float64\n"
     ]
    }
   ],
   "source": [
    "import pandas as pd\n",
    "\n",
    "# Load your data\n",
    "data = pd.read_csv('Fraud_Data.csv')\n",
    "\n",
    "# Check for missing values\n",
    "missing_values = data.isnull().sum()\n",
    "print(\"Missing Values:\\n\", missing_values)\n",
    "\n",
    "# Display the percentage of missing values per column\n",
    "missing_percentage = data.isnull().mean() * 100\n",
    "print(\"Percentage of Missing Values:\\n\", missing_percentage)"
   ]
  },
  {
   "cell_type": "code",
   "execution_count": 3,
   "metadata": {},
   "outputs": [
    {
     "name": "stdout",
     "output_type": "stream",
     "text": [
      "Duplicate Rows: 0\n"
     ]
    }
   ],
   "source": [
    "duplicates = data.duplicated().sum()\n",
    "print(f\"Duplicate Rows: {duplicates}\")"
   ]
  },
  {
   "cell_type": "code",
   "execution_count": 14,
   "metadata": {},
   "outputs": [
    {
     "name": "stdout",
     "output_type": "stream",
     "text": [
      "Data Types:\n",
      " user_id             int64\n",
      "signup_time        object\n",
      "purchase_time      object\n",
      "purchase_value      int64\n",
      "device_id          object\n",
      "source             object\n",
      "browser            object\n",
      "sex                object\n",
      "age                 int64\n",
      "ip_address        float64\n",
      "class               int64\n",
      "dtype: object\n"
     ]
    }
   ],
   "source": [
    "print(\"Data Types:\\n\", data.dtypes)"
   ]
  },
  {
   "cell_type": "code",
   "execution_count": 5,
   "metadata": {},
   "outputs": [
    {
     "name": "stdout",
     "output_type": "stream",
     "text": [
      "             user_id  purchase_value            age    ip_address  \\\n",
      "count  151112.000000   151112.000000  151112.000000  1.511120e+05   \n",
      "mean   200171.040970       36.935372      33.140704  2.152145e+09   \n",
      "std    115369.285024       18.322762       8.617733  1.248497e+09   \n",
      "min         2.000000        9.000000      18.000000  5.209350e+04   \n",
      "25%    100642.500000       22.000000      27.000000  1.085934e+09   \n",
      "50%    199958.000000       35.000000      33.000000  2.154770e+09   \n",
      "75%    300054.000000       49.000000      39.000000  3.243258e+09   \n",
      "max    400000.000000      154.000000      76.000000  4.294850e+09   \n",
      "\n",
      "               class  \n",
      "count  151112.000000  \n",
      "mean        0.093646  \n",
      "std         0.291336  \n",
      "min         0.000000  \n",
      "25%         0.000000  \n",
      "50%         0.000000  \n",
      "75%         0.000000  \n",
      "max         1.000000  \n"
     ]
    }
   ],
   "source": [
    "print(data.describe())"
   ]
  },
  {
   "cell_type": "code",
   "execution_count": 17,
   "metadata": {},
   "outputs": [],
   "source": [
    "import pandas as pd\n",
    "\n",
    "# Load the CSV file\n",
    "df = pd.read_csv('Fraud_Data.csv')\n",
    "\n",
    "# Convert the signup_time and purchase_time columns to datetime\n",
    "df['signup_time'] = pd.to_datetime(df['signup_time'])\n",
    "df['purchase_time'] = pd.to_datetime(df['purchase_time'])\n",
    "\n",
    "# Calculate the time difference in minutes\n",
    "df['time_difference'] = (df['purchase_time'] - df['signup_time']).dt.total_seconds() / 60\n",
    "\n",
    "# Drop the signup_time and purchase_time columns\n",
    "df = df.drop(columns=['signup_time', 'purchase_time'])\n",
    "\n",
    "# Save the modified DataFrame to a new CSV\n",
    "df.to_csv('cleaned_data.csv', index=False)"
   ]
  },
  {
   "cell_type": "code",
   "execution_count": 18,
   "metadata": {},
   "outputs": [
    {
     "name": "stdout",
     "output_type": "stream",
     "text": [
      "Number of rows: 151112\n",
      "Number of columns: 10\n"
     ]
    }
   ],
   "source": [
    "import pandas as pd\n",
    "\n",
    "# Load your data\n",
    "data = pd.read_csv('cleaned_data.csv')\n",
    "\n",
    "# Display the number of rows and columns\n",
    "rows, columns = data.shape\n",
    "print(f\"Number of rows: {rows}\")\n",
    "print(f\"Number of columns: {columns}\")"
   ]
  }
 ],
 "metadata": {
  "kernelspec": {
   "display_name": ".venv",
   "language": "python",
   "name": "python3"
  },
  "language_info": {
   "codemirror_mode": {
    "name": "ipython",
    "version": 3
   },
   "file_extension": ".py",
   "mimetype": "text/x-python",
   "name": "python",
   "nbconvert_exporter": "python",
   "pygments_lexer": "ipython3",
   "version": "3.12.2"
  }
 },
 "nbformat": 4,
 "nbformat_minor": 2
}
